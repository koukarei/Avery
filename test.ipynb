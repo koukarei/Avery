{
 "cells": [
  {
   "cell_type": "code",
   "execution_count": 1,
   "metadata": {},
   "outputs": [],
   "source": [
    "filename_result=\"gradio-project/data/Result/result.csv\""
   ]
  },
  {
   "cell_type": "code",
   "execution_count": 26,
   "metadata": {},
   "outputs": [],
   "source": [
    "# convert image url to html tag\n",
    "def path_to_image_html(path):\n",
    "    path='/gradio-project/'+path\n",
    "    return '<img src=\"'+ path + '\" width=\"480\" alt=\"image '+ path + '\">'"
   ]
  },
  {
   "cell_type": "code",
   "execution_count": 27,
   "metadata": {},
   "outputs": [],
   "source": [
    "# Python program to convert \n",
    "# CSV to HTML Table\n",
    "\n",
    "\n",
    "import pandas as pd\n",
    "\n",
    "# to read csv file named \"samplee\"\n",
    "a = pd.read_csv(filename_result)\n",
    "\n",
    "a['original_image'] = a['original_picture_path'].apply(path_to_image_html)\n",
    "a['interpreted_image'] = a['interpreted_picture_path'].apply(path_to_image_html)\n",
    "\n",
    "# to save as html file\n",
    "# named as \"Table\"\n",
    "a.to_html(\"Table.htm\")\n",
    "\n",
    "# assign it to a \n",
    "# variable (string)\n",
    "html_file = a.to_html()\n"
   ]
  },
  {
   "cell_type": "code",
   "execution_count": 28,
   "metadata": {},
   "outputs": [
    {
     "name": "stdout",
     "output_type": "stream",
     "text": [
      "Replacements done.\n"
     ]
    }
   ],
   "source": [
    "import re\n",
    "\n",
    "# Read the HTML file\n",
    "with open('Table.htm', 'r', encoding='utf-8') as file:\n",
    "    content = file.read()\n",
    "\n",
    "# Replace &lt;td&gt; with <td> and &lt;/td&gt; with </td>\n",
    "content = re.sub(r'<td>&lt;', '<td><', content)\n",
    "content = re.sub(r'&gt;</td>', '></td>', content)\n",
    "\n",
    "# Write the changes back to the file\n",
    "with open('Table.html', 'w', encoding='utf-8') as file:\n",
    "    file.write('<meta charset=\"UTF-8\">\\n')\n",
    "    file.write(content)\n",
    "\n",
    "print(\"Replacements done.\")\n"
   ]
  },
  {
   "cell_type": "code",
   "execution_count": null,
   "metadata": {},
   "outputs": [],
   "source": []
  },
  {
   "cell_type": "code",
   "execution_count": null,
   "metadata": {},
   "outputs": [],
   "source": []
  }
 ],
 "metadata": {
  "kernelspec": {
   "display_name": "icce24",
   "language": "python",
   "name": "python3"
  },
  "language_info": {
   "codemirror_mode": {
    "name": "ipython",
    "version": 3
   },
   "file_extension": ".py",
   "mimetype": "text/x-python",
   "name": "python",
   "nbconvert_exporter": "python",
   "pygments_lexer": "ipython3",
   "version": "3.9.17"
  }
 },
 "nbformat": 4,
 "nbformat_minor": 2
}
